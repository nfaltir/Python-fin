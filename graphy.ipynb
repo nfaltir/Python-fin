import yfinance as yf
import matplotlib.pyplot as plt
import pandas as pd
from matplotlib import style
import datetime as dt


print("Hello World")